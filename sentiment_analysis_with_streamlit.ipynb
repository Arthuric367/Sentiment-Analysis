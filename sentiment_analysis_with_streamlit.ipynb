from tensorflow.keras.models import Sequential
from tensorflow.keras.layers import Dense, LSTM, Embedding
from tensorflow.keras.preprocessing.text import Tokenizer
from tensorflow.keras.preprocessing.sequence import pad_sequences
import numpy as np # Import numpy for converting predictions
import os # Import os to kill ngrok processes

# Tokenize text
tokenizer = Tokenizer(num_words=5000)
tokenizer.fit_on_texts(reviews)
X_seq = tokenizer.texts_to_sequences(reviews)
X_padded = pad_sequences(X_seq, maxlen=200)

# Split data
X_train, X_test, y_train, y_test = train_test_split(X_padded, y, test_size=0.2, random_state=42)

# Convert labels to numeric (if 'positive'/'negative')
y_train = y_train.map({'positive': 1, 'negative': 0})
y_test = y_test.map({'positive': 1, 'negative': 0})

# Build LSTM model
model = Sequential()
model.add(Embedding(input_dim=5000, output_dim=128, input_length=200))
model.add(LSTM(64))
model.add(Dense(1, activation='sigmoid'))
model.compile(optimizer='adam', loss='binary_crossentropy', metrics=['accuracy'])

# Train
model.fit(X_train, y_train, epochs=5, batch_size=64, validation_split=0.2)

# Evaluate
loss, accuracy = model.evaluate(X_test, y_test)
print(f"Accuracy: {accuracy:.2f}")

# Confusion matrix
# Get predictions from the trained LSTM model
lstm_predictions = (model.predict(X_test) > 0.5).astype(int)

cm = confusion_matrix(y_test, lstm_predictions)
sns.heatmap(cm, annot=True, fmt='d', cmap='Blues')
plt.xlabel('Predicted')
plt.ylabel('Actual')
plt.title('Confusion Matrix')
plt.show()

# Predict sample
new_text = ["This movie was amazing!"]
new_text_seq = tokenizer.texts_to_sequences(new_text)
new_text_padded = pad_sequences(new_text_seq, maxlen=200)
prediction = (model.predict(new_text_padded) > 0.5).astype(int)[0][0]
sentiment = 'positive' if prediction == 1 else 'negative'
print(f"Prediction: {sentiment}")


# Save model and tokenizer (vectorizer is not used for LSTM)
model.save('model.h5') # Save in HDF5 format
with open('tokenizer.pkl', 'wb') as f:
    pickle.dump(tokenizer, f)

# Cell 3: Write Streamlit app
app_code = """
import streamlit as st
import pickle
import nltk
from nltk.corpus import stopwords
import string
from tensorflow.keras.models import load_model
from tensorflow.keras.preprocessing.sequence import pad_sequences
from tensorflow.keras.preprocessing.text import Tokenizer
import numpy as np

# Download NLTK stopwords
nltk.download('stopwords')
stop_words = set(stopwords.words('english'))

# Load model and tokenizer
model = load_model('model.h5')
with open('tokenizer.pkl', 'rb') as f:
    tokenizer = pickle.load(f)

# Preprocess function
def preprocess(text):
    text = text.lower()
    text = ''.join([char for char in text if char not in string.punctuation])
    text = ' '.join(word for word in text.split() if word not in stop_words)
    return text

# Streamlit app
st.title("Movie Review Sentiment Analysis")
st.write("Enter a movie review to predict its sentiment (positive or negative).")

# Input text
user_input = st.text_area("Enter your review:", "Type your movie review here...")

if st.button("Predict Sentiment"):
    if user_input:
        # Preprocess and predict
        processed_input = preprocess(user_input)
        input_seq = tokenizer.texts_to_sequences([processed_input])
        input_padded = pad_sequences(input_seq, maxlen=200)
        prediction = (model.predict(input_padded) > 0.5).astype(int)[0][0]
        sentiment = 'positive' if prediction == 1 else 'negative'
        st.write(f"Predicted Sentiment: **{sentiment}**")
    else:
        st.write("Please enter a review.")
"""
with open('app.py', 'w') as f:
    f.write(app_code)

# Cell 4: Run Streamlit
from pyngrok import ngrok
import subprocess

# Kill any running ngrok processes
os.system('killall ngrok')

!ngrok authtoken 2zwhy33I9ElIYpfLPxzwzMwcCZ2_6kPB1GvYwvxpWakwFZbt8
ngrok.kill()
subprocess.Popen(["streamlit", "run", "app.py", "--server.port", "8501"])
public_url = ngrok.connect(8501)
print(f"Streamlit app is live at: {public_url}")
